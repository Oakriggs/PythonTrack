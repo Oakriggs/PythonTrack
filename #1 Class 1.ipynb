{
 "cells": [
  {
   "cell_type": "code",
   "execution_count": 2,
   "metadata": {},
   "outputs": [
    {
     "name": "stdout",
     "output_type": "stream",
     "text": [
      "23\n"
     ]
    }
   ],
   "source": [
    "a = 23\n",
    "print(a)"
   ]
  },
  {
   "cell_type": "code",
   "execution_count": 4,
   "metadata": {},
   "outputs": [
    {
     "name": "stdout",
     "output_type": "stream",
     "text": [
      "3.5\n"
     ]
    }
   ],
   "source": [
    "b = 2.6\n",
    "c = 3.5\n",
    "print(c)\n",
    "c = c + 5\n"
   ]
  },
  {
   "cell_type": "code",
   "execution_count": 7,
   "metadata": {},
   "outputs": [
    {
     "name": "stdout",
     "output_type": "stream",
     "text": [
      "50\n"
     ]
    }
   ],
   "source": [
    "L = 5\n",
    "B = 10\n",
    "A = L*B\n",
    "print(A)"
   ]
  },
  {
   "cell_type": "markdown",
   "metadata": {},
   "source": [
    "### This is a program for area of a rectangle"
   ]
  },
  {
   "cell_type": "code",
   "execution_count": 10,
   "metadata": {},
   "outputs": [
    {
     "name": "stdout",
     "output_type": "stream",
     "text": [
      "Provide Length: 1\n",
      "Provide Breadth: 2\n",
      "2\n"
     ]
    }
   ],
   "source": [
    "L = int(input('Provide Length: '))\n",
    "B = int(input('Provide Breadth: '))\n",
    "A = L*B\n",
    "print(A)\n"
   ]
  },
  {
   "cell_type": "markdown",
   "metadata": {},
   "source": [
    "Python Data Types:\n",
    "1. Integers (int)\n",
    "2. Floats (float)\n",
    "3. Boolean (bool)\n",
    "4. Strings (str)\n"
   ]
  },
  {
   "cell_type": "code",
   "execution_count": 18,
   "metadata": {},
   "outputs": [
    {
     "name": "stdout",
     "output_type": "stream",
     "text": [
      "2\n"
     ]
    }
   ],
   "source": [
    "a = 2.0\n",
    "b = 2\n",
    "print(b)"
   ]
  },
  {
   "cell_type": "code",
   "execution_count": 29,
   "metadata": {},
   "outputs": [
    {
     "name": "stdout",
     "output_type": "stream",
     "text": [
      "False\n"
     ]
    }
   ],
   "source": [
    "c = 4\n",
    "d = -3\n",
    "e = not(b < a or d < c)\n",
    "f = not b < a and not d < c\n",
    "print(f)"
   ]
  },
  {
   "cell_type": "code",
   "execution_count": 37,
   "metadata": {},
   "outputs": [
    {
     "data": {
      "text/plain": [
       "bool"
      ]
     },
     "execution_count": 37,
     "metadata": {},
     "output_type": "execute_result"
    }
   ],
   "source": [
    "g = a > b or c > d\n",
    "f = c > d or a > b \n",
    "g = a > b and (c == a or d < c)\n",
    "type(g)"
   ]
  },
  {
   "cell_type": "code",
   "execution_count": 65,
   "metadata": {},
   "outputs": [
    {
     "name": "stdout",
     "output_type": "stream",
     "text": [
      "False\n"
     ]
    },
    {
     "data": {
      "text/plain": [
       "['__add__',\n",
       " '__class__',\n",
       " '__contains__',\n",
       " '__delattr__',\n",
       " '__dir__',\n",
       " '__doc__',\n",
       " '__eq__',\n",
       " '__format__',\n",
       " '__ge__',\n",
       " '__getattribute__',\n",
       " '__getitem__',\n",
       " '__getnewargs__',\n",
       " '__gt__',\n",
       " '__hash__',\n",
       " '__init__',\n",
       " '__init_subclass__',\n",
       " '__iter__',\n",
       " '__le__',\n",
       " '__len__',\n",
       " '__lt__',\n",
       " '__mod__',\n",
       " '__mul__',\n",
       " '__ne__',\n",
       " '__new__',\n",
       " '__reduce__',\n",
       " '__reduce_ex__',\n",
       " '__repr__',\n",
       " '__rmod__',\n",
       " '__rmul__',\n",
       " '__setattr__',\n",
       " '__sizeof__',\n",
       " '__str__',\n",
       " '__subclasshook__',\n",
       " 'capitalize',\n",
       " 'casefold',\n",
       " 'center',\n",
       " 'count',\n",
       " 'encode',\n",
       " 'endswith',\n",
       " 'expandtabs',\n",
       " 'find',\n",
       " 'format',\n",
       " 'format_map',\n",
       " 'index',\n",
       " 'isalnum',\n",
       " 'isalpha',\n",
       " 'isdecimal',\n",
       " 'isdigit',\n",
       " 'isidentifier',\n",
       " 'islower',\n",
       " 'isnumeric',\n",
       " 'isprintable',\n",
       " 'isspace',\n",
       " 'istitle',\n",
       " 'isupper',\n",
       " 'join',\n",
       " 'ljust',\n",
       " 'lower',\n",
       " 'lstrip',\n",
       " 'maketrans',\n",
       " 'partition',\n",
       " 'replace',\n",
       " 'rfind',\n",
       " 'rindex',\n",
       " 'rjust',\n",
       " 'rpartition',\n",
       " 'rsplit',\n",
       " 'rstrip',\n",
       " 'split',\n",
       " 'splitlines',\n",
       " 'startswith',\n",
       " 'strip',\n",
       " 'swapcase',\n",
       " 'title',\n",
       " 'translate',\n",
       " 'upper',\n",
       " 'zfill']"
      ]
     },
     "execution_count": 65,
     "metadata": {},
     "output_type": "execute_result"
    }
   ],
   "source": [
    "v = 'acgBDERT12345'\n",
    "H = '123'\n",
    "SD = 'The Name id    : John'\n",
    "type(v)\n",
    "sz = len(v)\n",
    "c = v[0]\n",
    "DD = SD.isalnum()\n",
    "print((DD))\n",
    "dir(v)"
   ]
  },
  {
   "cell_type": "code",
   "execution_count": 67,
   "metadata": {},
   "outputs": [
    {
     "name": "stdout",
     "output_type": "stream",
     "text": [
      "Enter Your Name: D-=45AN\n",
      "False\n"
     ]
    }
   ],
   "source": [
    "name = input('Enter Your Name: ')\n",
    "isgood = name.isalnum()\n",
    "print(isgood)"
   ]
  },
  {
   "cell_type": "code",
   "execution_count": 71,
   "metadata": {},
   "outputs": [
    {
     "data": {
      "text/plain": [
       "'547547547'"
      ]
     },
     "execution_count": 71,
     "metadata": {},
     "output_type": "execute_result"
    }
   ],
   "source": [
    "s = '547'\n",
    "s*3"
   ]
  },
  {
   "cell_type": "code",
   "execution_count": 76,
   "metadata": {},
   "outputs": [
    {
     "name": "stdout",
     "output_type": "stream",
     "text": [
      "2.0\n"
     ]
    }
   ],
   "source": [
    "v = 2+2-2**2/2\n",
    "print(v)"
   ]
  },
  {
   "cell_type": "code",
   "execution_count": 78,
   "metadata": {},
   "outputs": [
    {
     "name": "stdout",
     "output_type": "stream",
     "text": [
      "10\n",
      "5\n"
     ]
    }
   ],
   "source": [
    "a = 5\n",
    "b = a\n",
    "a = 10\n",
    "print(a)\n",
    "print(b)"
   ]
  },
  {
   "cell_type": "code",
   "execution_count": 86,
   "metadata": {},
   "outputs": [
    {
     "name": "stdout",
     "output_type": "stream",
     "text": [
      "[1, 2, 3, 4]\n",
      "[1, 2, 3, 4]\n",
      "[1, 2, 10, 4]\n",
      "[1, 2, 10, 4]\n",
      "[1, 2]\n",
      "[1, 2, 10, 4]\n"
     ]
    }
   ],
   "source": [
    "d = [1,2,3,4]\n",
    "g = d\n",
    "print(g)\n",
    "print(d)\n",
    "d[2] = 10\n",
    "print(d)\n",
    "print(g)\n",
    "d = [1,2]\n",
    "print(d)\n",
    "print(g)"
   ]
  },
  {
   "cell_type": "code",
   "execution_count": 92,
   "metadata": {},
   "outputs": [
    {
     "name": "stdout",
     "output_type": "stream",
     "text": [
      "Provide a number: 8\n",
      "It is even\n"
     ]
    }
   ],
   "source": [
    "num = int(input('Provide a number: '))\n",
    "if num%2 == 0:\n",
    "    print('It is even')\n",
    "else:\n",
    "    print('It is odd')"
   ]
  },
  {
   "cell_type": "code",
   "execution_count": 3,
   "metadata": {},
   "outputs": [
    {
     "name": "stdout",
     "output_type": "stream",
     "text": [
      "Provide a number: -23\n",
      " Min: 0 | Max: 23.0\n",
      " Min: 0 | Max: 11.5\n",
      " Min: 0 | Max: 5.75\n",
      " Min: 2.875 | Max: 5.75\n",
      " Min: 4.3125 | Max: 5.75\n",
      " Min: 4.3125 | Max: 5.03125\n",
      " Min: 4.671875 | Max: 5.03125\n",
      " Min: 4.671875 | Max: 4.8515625\n",
      " Min: 4.76171875 | Max: 4.8515625\n",
      " Min: 4.76171875 | Max: 4.806640625\n",
      " Min: 4.7841796875 | Max: 4.806640625\n",
      " Min: 4.79541015625 | Max: 4.806640625\n",
      " Min: 4.79541015625 | Max: 4.801025390625\n",
      " Min: 4.79541015625 | Max: 4.7982177734375\n",
      " Min: 4.79541015625 | Max: 4.79681396484375\n",
      " Min: 4.79541015625 | Max: 4.796112060546875\n",
      " Min: 4.7957611083984375 | Max: 4.796112060546875\n",
      " Min: 4.7957611083984375 | Max: 4.795936584472656\n",
      " Min: 4.7957611083984375 | Max: 4.795848846435547\n",
      " Min: 4.795804977416992 | Max: 4.795848846435547\n",
      " Min: 4.7958269119262695 | Max: 4.795848846435547\n",
      " Min: 4.7958269119262695 | Max: 4.795837879180908\n",
      " Min: 4.7958269119262695 | Max: 4.795832395553589\n",
      " Min: 4.795829653739929 | Max: 4.795832395553589\n",
      " Min: 4.795831024646759 | Max: 4.795832395553589\n",
      " Min: 4.795831024646759 | Max: 4.795831710100174\n",
      " Min: 4.7958313673734665 | Max: 4.795831710100174\n",
      "4.79583153873682j\n"
     ]
    }
   ],
   "source": [
    "\n",
    "num = float(input('Provide a number: '))\n",
    "mn = 0\n",
    "sig = num/abs(num)\n",
    "num = abs(num)\n",
    "if num < 1:\n",
    "    mz = 1\n",
    "else:\n",
    "    mz = num\n",
    "sq = 0\n",
    "tol = 10**(-6)\n",
    "\n",
    "while abs(sq**2 - num) > tol:\n",
    "    print(' Min: ' + str(mn) + ' | Max: ' + str(mz))\n",
    "    sq = (mz + mn)/2\n",
    "    if sq**2 > num:\n",
    "        mz = sq\n",
    "    elif sq**2 < num:\n",
    "        mn = sq\n",
    "if sig < 0:\n",
    "    sq = str(sq) + 'j'\n",
    "print(sq)"
   ]
  },
  {
   "cell_type": "code",
   "execution_count": 9,
   "metadata": {},
   "outputs": [
    {
     "name": "stdout",
     "output_type": "stream",
     "text": [
      "Provide the number: 57\n",
      "Min : 0 Max : 28.5\n",
      "Min : 0 Max : 14.25\n",
      "Min : 7.125 Max : 14.25\n",
      "Min : 7.125 Max : 10.6875\n",
      "Min : 7.125 Max : 8.90625\n",
      "Min : 7.125 Max : 8.015625\n",
      "Min : 7.125 Max : 7.5703125\n",
      "Min : 7.34765625 Max : 7.5703125\n",
      "Min : 7.458984375 Max : 7.5703125\n",
      "Min : 7.5146484375 Max : 7.5703125\n",
      "Min : 7.54248046875 Max : 7.5703125\n",
      "Min : 7.54248046875 Max : 7.556396484375\n",
      "Min : 7.5494384765625 Max : 7.556396484375\n",
      "Min : 7.5494384765625 Max : 7.55291748046875\n",
      "Min : 7.5494384765625 Max : 7.551177978515625\n",
      "Min : 7.5494384765625 Max : 7.5503082275390625\n",
      "Min : 7.5494384765625 Max : 7.549873352050781\n",
      "Min : 7.549655914306641 Max : 7.549873352050781\n",
      "Min : 7.549764633178711 Max : 7.549873352050781\n",
      "Min : 7.549818992614746 Max : 7.549873352050781\n",
      "Min : 7.549818992614746 Max : 7.549846172332764\n",
      "Min : 7.549832582473755 Max : 7.549846172332764\n",
      "Min : 7.549832582473755 Max : 7.549839377403259\n",
      "Min : 7.549832582473755 Max : 7.549835979938507\n",
      "Min : 7.549834281206131 Max : 7.549835979938507\n",
      "Min : 7.549834281206131 Max : 7.549835130572319\n",
      "Min : 7.549834281206131 Max : 7.549834705889225\n",
      "Min : 7.549834281206131 Max : 7.549834493547678\n",
      "Min : 7.5498343873769045 Max : 7.549834493547678\n",
      "Min : 7.5498343873769045 Max : 7.549834440462291\n",
      "Min : 7.549834413919598 Max : 7.549834440462291\n",
      "Min : 7.5498344271909446 Max : 7.549834440462291\n",
      "Min : 7.549834433826618 Max : 7.549834440462291\n",
      "Min : 7.549834433826618 Max : 7.549834437144455\n",
      "Min : 7.549834433826618 Max : 7.549834435485536\n",
      "7.549834435485536\n"
     ]
    }
   ],
   "source": [
    "num = float(input(\"Provide the number: \"))\n",
    "num = abs(num)\n",
    "mn = 0\n",
    "sig = num/abs(num)\n",
    "if num < 1:\n",
    "    mz = 1\n",
    "else:\n",
    "    mz = num\n",
    "    \n",
    "sq = 0\n",
    "tol = 10**(-8)\n",
    "\n",
    "while abs(sq**2 - num) > tol:\n",
    "    sq = (mn + mz)/2\n",
    "    if sq**2 > num:\n",
    "        mz = sq\n",
    "    if sq**2 < num:\n",
    "        mn = sq\n",
    "    print(\"Min : \" + str(mn) + \" Max : \" + str(mz))\n",
    "if sig < 0:\n",
    "    sq = str(sq) + 'j'\n",
    "print(sq)    \n",
    "\n",
    "    \n",
    "\n",
    "    \n",
    "    \n",
    "    "
   ]
  },
  {
   "cell_type": "code",
   "execution_count": null,
   "metadata": {
    "collapsed": true
   },
   "outputs": [],
   "source": []
  }
 ],
 "metadata": {
  "kernelspec": {
   "display_name": "Python 3",
   "language": "python",
   "name": "python3"
  },
  "language_info": {
   "codemirror_mode": {
    "name": "ipython",
    "version": 3
   },
   "file_extension": ".py",
   "mimetype": "text/x-python",
   "name": "python",
   "nbconvert_exporter": "python",
   "pygments_lexer": "ipython3",
   "version": "3.6.3"
  }
 },
 "nbformat": 4,
 "nbformat_minor": 2
}
