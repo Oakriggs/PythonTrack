{
 "cells": [
  {
   "cell_type": "markdown",
   "metadata": {},
   "source": [
    "### Reading Files"
   ]
  },
  {
   "cell_type": "code",
   "execution_count": 1,
   "metadata": {},
   "outputs": [
    {
     "name": "stdout",
     "output_type": "stream",
     "text": [
      "[12, 34, 45, 34, 12]\n",
      "{34, 12, 45}\n",
      "{'Dan': {'name': 'Dan', 'score': 23, 'class': 'SSS1'}, 'John': {'name': 'John', 'score': 45, 'class': 'SSS2'}, 'Mike': {'name': 'Mike', 'score': 56, 'class': 'SSS3'}, 'James': {'name': 'James', 'score': 20, 'class': 'SSS2'}}\n"
     ]
    }
   ],
   "source": [
    "a = 12\n",
    "d = 12.345\n",
    "s = \"name \"\n",
    "lt = [12,34,45,34,12]\n",
    "print(lt)\n",
    "st = set(lt)\n",
    "print(st)\n",
    "dt = dict();\n",
    "names = [\"Dan\",\"John\",\"Mike\",\"James\"]\n",
    "scores = [23,45,56,20]\n",
    "clses = [\"SSS1\",\"SSS2\",\"SSS3\",\"SSS2\"]\n",
    "for i in range(4):\n",
    "    name = names[i]\n",
    "    score = scores[i]\n",
    "    cl = clses[i]\n",
    "    dt[name] = {\"name\":name,\"score\":score,\"class\":cl}\n",
    "\n",
    "\n",
    "print(dt)\n",
    "cord = [ [2,3], [5,6], [7,8] ]\n"
   ]
  },
  {
   "cell_type": "code",
   "execution_count": 2,
   "metadata": {},
   "outputs": [
    {
     "name": "stdout",
     "output_type": "stream",
     "text": [
      "SSS1\n"
     ]
    }
   ],
   "source": [
    "jh = dt[\"Dan\"][\"class\"]\n",
    "print(jh)"
   ]
  },
  {
   "cell_type": "markdown",
   "metadata": {},
   "source": [
    "### Reading Files"
   ]
  },
  {
   "cell_type": "code",
   "execution_count": 9,
   "metadata": {},
   "outputs": [
    {
     "name": "stdout",
     "output_type": "stream",
     "text": [
      "['a', 'aa', 'aaa', 'aah', 'aahed', 'aahing', 'aahs', 'aal', 'aalii', 'aaliis']\n"
     ]
    }
   ],
   "source": [
    "file = open(\"words.txt\",\"r\")\n",
    "words = file.readline()[3:]\n",
    "# print(words)\n",
    "file.close()\n",
    "splitWord = words.split(\" \")\n",
    "print(splitWord[0:10])"
   ]
  },
  {
   "cell_type": "code",
   "execution_count": null,
   "metadata": {},
   "outputs": [],
   "source": [
    "def isInDict(word):\n",
    "    if word in splitWord:\n",
    "        print(\"Yes\")\n",
    "    else:\n",
    "        print(\"No\")\n",
    "\n",
    "word = \"abc\"\n",
    "while len(word) > 0:\n",
    "    word = input(\"Enter a word: \")\n",
    "    isInDict(word)\n",
    "    \n",
    "\n",
    "\n"
   ]
  },
  {
   "cell_type": "markdown",
   "metadata": {},
   "source": [
    "### Write File"
   ]
  },
  {
   "cell_type": "code",
   "execution_count": 8,
   "metadata": {},
   "outputs": [
    {
     "name": "stdout",
     "output_type": "stream",
     "text": [
      "<_io.TextIOWrapper name='letter.txt' mode='w' encoding='cp1252'>\n"
     ]
    }
   ],
   "source": [
    "def letter(name, address, date, title, body):\n",
    "    file = open(\"letter.txt\",\"w\")\n",
    "    file.write(address+\"\\n\")\n",
    "    file.write(date+\"\\n\")\n",
    "    file.write(\" \"+\"\\n\")\n",
    "    file.write(\"Hello \"+name+\",\"+\"\\n\")\n",
    "    file.write(\" \"+\"\\n\")\n",
    "    file.write(title+\"\\n\")\n",
    "    file.write(body+\"\\n\")\n",
    "    file.write(\" \"+\"\\n\")\n",
    "    file.write(\"Best regards,\"+\"\\n\")\n",
    "    file.write(\"Daniel\"+\"\\n\")\n",
    "   \n",
    "    file.close()\n",
    "    \n",
    "\n",
    "note = letter(\"Chiamaka\", \"26, Egbeda\",\"June 22, 2018\", \"SALARY NOTIFICATION\",\"I wish to inform you that your monthly stipend has been paid.\\nThank you.\")\n"
   ]
  },
  {
   "cell_type": "code",
   "execution_count": null,
   "metadata": {
    "collapsed": true
   },
   "outputs": [],
   "source": []
  }
 ],
 "metadata": {
  "kernelspec": {
   "display_name": "Python 3",
   "language": "python",
   "name": "python3"
  },
  "language_info": {
   "codemirror_mode": {
    "name": "ipython",
    "version": 3
   },
   "file_extension": ".py",
   "mimetype": "text/x-python",
   "name": "python",
   "nbconvert_exporter": "python",
   "pygments_lexer": "ipython3",
   "version": "3.6.3"
  }
 },
 "nbformat": 4,
 "nbformat_minor": 2
}
