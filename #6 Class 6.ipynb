{
 "cells": [
  {
   "cell_type": "markdown",
   "metadata": {},
   "source": [
    "### 4 PICS ONE WORD"
   ]
  },
  {
   "cell_type": "markdown",
   "metadata": {},
   "source": [
    "#### Fetch Dictionary"
   ]
  },
  {
   "cell_type": "code",
   "execution_count": 9,
   "metadata": {
    "collapsed": true,
    "scrolled": true
   },
   "outputs": [],
   "source": [
    "file = open(\"words.txt\", \"r\")\n",
    "rawWords = file.readline()\n",
    "file.close()\n",
    "rawWords = rawWords[3:]\n",
    "words = rawWords.split(\" \")\n"
   ]
  },
  {
   "cell_type": "code",
   "execution_count": 7,
   "metadata": {},
   "outputs": [
    {
     "name": "stdout",
     "output_type": "stream",
     "text": [
      "{'s': 1, 'c': 1, 'h': 1, 'o': 2, 'l': 1}\n"
     ]
    }
   ],
   "source": [
    "def predictWords(dictionary, allowedChars, wordSize):\n",
    "    allowedChars = allowedChars.lower()\n",
    "    validWords = []\n",
    "    for aword in dictionary:\n",
    "        if len(aword) == wordSize:\n",
    "            validWords.append(aword)\n",
    "            \n",
    "    result = []\n",
    "    sz = len(validWords)\n",
    "    allowedCharDict = getDict(allowedChars)\n",
    "    for i in range(sz):\n",
    "        aword = validWords[i]\n",
    "        adict = getDict(aword)\n",
    "        isresult = True\n",
    "        for k, v in adict.items():\n",
    "#             v = adict[k]\n",
    "            if k in allowedCharDict and v <= allowedCharDict[k]:\n",
    "                continue\n",
    "            else:\n",
    "                isresult = False\n",
    "                break\n",
    "        if isresult:\n",
    "            result.append(aword)\n",
    "        \n",
    "    return result\n",
    "\n",
    "        \n",
    "    \n",
    "def getDict(word):\n",
    "    result = dict()\n",
    "    for c in word:\n",
    "        if c not in result:\n",
    "            result.setdefault(c, 1)\n",
    "            \n",
    "        else:\n",
    "            result[c] += 1\n",
    "    return result\n",
    "\n",
    "d = getDict(\"school\")\n",
    "print(d)\n",
    "\n",
    "\n",
    "\n",
    "    "
   ]
  },
  {
   "cell_type": "code",
   "execution_count": 12,
   "metadata": {},
   "outputs": [
    {
     "name": "stdout",
     "output_type": "stream",
     "text": [
      "['japeries'] 1\n"
     ]
    }
   ],
   "source": [
    "result = predictWords(words, \"jasjirepse\",8)\n",
    "print(result, len(result))\n"
   ]
  },
  {
   "cell_type": "code",
   "execution_count": null,
   "metadata": {
    "collapsed": true
   },
   "outputs": [],
   "source": []
  }
 ],
 "metadata": {
  "kernelspec": {
   "display_name": "Python 3",
   "language": "python",
   "name": "python3"
  },
  "language_info": {
   "codemirror_mode": {
    "name": "ipython",
    "version": 3
   },
   "file_extension": ".py",
   "mimetype": "text/x-python",
   "name": "python",
   "nbconvert_exporter": "python",
   "pygments_lexer": "ipython3",
   "version": "3.6.3"
  }
 },
 "nbformat": 4,
 "nbformat_minor": 2
}
