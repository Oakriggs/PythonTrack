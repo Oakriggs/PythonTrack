{
 "cells": [
  {
   "cell_type": "markdown",
   "metadata": {},
   "source": [
    "### Dictionary"
   ]
  },
  {
   "cell_type": "code",
   "execution_count": 1,
   "metadata": {},
   "outputs": [
    {
     "name": "stdout",
     "output_type": "stream",
     "text": [
      "{'john': 20, 'james': 50, 'femi': 35, 'mike': 43}\n"
     ]
    }
   ],
   "source": [
    "dict_1 = { \"john\":20,\"james\":50,\"femi\":35,\"mike\":43 }\n",
    "\n",
    "print(dict_1)"
   ]
  },
  {
   "cell_type": "markdown",
   "metadata": {},
   "source": [
    "### Using Keys To Get Values In Dictionary"
   ]
  },
  {
   "cell_type": "code",
   "execution_count": 2,
   "metadata": {},
   "outputs": [
    {
     "name": "stdout",
     "output_type": "stream",
     "text": [
      "20\n"
     ]
    }
   ],
   "source": [
    "sc = dict_1['john']\n",
    "\n",
    "print(sc)"
   ]
  },
  {
   "cell_type": "markdown",
   "metadata": {},
   "source": [
    "### Checking If A Key Exists"
   ]
  },
  {
   "cell_type": "code",
   "execution_count": 3,
   "metadata": {},
   "outputs": [
    {
     "name": "stdout",
     "output_type": "stream",
     "text": [
      "Yes\n"
     ]
    }
   ],
   "source": [
    "ky = 'john'\n",
    "if ky in dict_1:\n",
    "    print('Yes')\n",
    "else:\n",
    "    print('No')"
   ]
  },
  {
   "cell_type": "code",
   "execution_count": 6,
   "metadata": {},
   "outputs": [
    {
     "name": "stdout",
     "output_type": "stream",
     "text": [
      "john\n",
      "james\n",
      "femi\n",
      "mike\n",
      "['john', 'james', 'femi', 'mike']\n"
     ]
    }
   ],
   "source": [
    "allKeys = list(dict_1.keys())\n",
    "for kt in allKeys:\n",
    "    print(kt)\n",
    "print(allKeys)"
   ]
  },
  {
   "cell_type": "code",
   "execution_count": 7,
   "metadata": {},
   "outputs": [
    {
     "data": {
      "text/plain": [
       "['__class__',\n",
       " '__contains__',\n",
       " '__delattr__',\n",
       " '__delitem__',\n",
       " '__dir__',\n",
       " '__doc__',\n",
       " '__eq__',\n",
       " '__format__',\n",
       " '__ge__',\n",
       " '__getattribute__',\n",
       " '__getitem__',\n",
       " '__gt__',\n",
       " '__hash__',\n",
       " '__init__',\n",
       " '__init_subclass__',\n",
       " '__iter__',\n",
       " '__le__',\n",
       " '__len__',\n",
       " '__lt__',\n",
       " '__ne__',\n",
       " '__new__',\n",
       " '__reduce__',\n",
       " '__reduce_ex__',\n",
       " '__repr__',\n",
       " '__setattr__',\n",
       " '__setitem__',\n",
       " '__sizeof__',\n",
       " '__str__',\n",
       " '__subclasshook__',\n",
       " 'clear',\n",
       " 'copy',\n",
       " 'fromkeys',\n",
       " 'get',\n",
       " 'items',\n",
       " 'keys',\n",
       " 'pop',\n",
       " 'popitem',\n",
       " 'setdefault',\n",
       " 'update',\n",
       " 'values']"
      ]
     },
     "execution_count": 7,
     "metadata": {},
     "output_type": "execute_result"
    }
   ],
   "source": [
    "dir(dict_1)"
   ]
  },
  {
   "cell_type": "code",
   "execution_count": 14,
   "metadata": {},
   "outputs": [
    {
     "name": "stdout",
     "output_type": "stream",
     "text": [
      "False\n"
     ]
    }
   ],
   "source": [
    "v = dict_1.get('johnny', None)\n",
    "print(v)\n"
   ]
  },
  {
   "cell_type": "code",
   "execution_count": 30,
   "metadata": {},
   "outputs": [
    {
     "name": "stdout",
     "output_type": "stream",
     "text": [
      "(25, 'ss1a')\n"
     ]
    }
   ],
   "source": [
    "scores = [25, 50, 75]\n",
    "names = ['john','james','femi']\n",
    "classroom = ['ss1a','ss1b','ss1c']\n",
    "sc = scores[0]\n",
    "nm = names[0]\n",
    "cr = classroom[0]\n",
    "\n",
    "data = { 'john':(25,'ss1a'),'james':(50,'ss1b'),'femi':(75,'ss1c') }\n",
    " \n",
    "dt = data['john']\n",
    "print(dt)"
   ]
  },
  {
   "cell_type": "markdown",
   "metadata": {},
   "source": [
    "### Functions"
   ]
  },
  {
   "cell_type": "code",
   "execution_count": 31,
   "metadata": {
    "collapsed": true
   },
   "outputs": [],
   "source": [
    "def evenOdd(num):\n",
    "    if num%2 == 0:\n",
    "        print('Even')\n",
    "    else:\n",
    "        print('Old')"
   ]
  },
  {
   "cell_type": "code",
   "execution_count": 38,
   "metadata": {},
   "outputs": [
    {
     "name": "stdout",
     "output_type": "stream",
     "text": [
      "Even\n"
     ]
    }
   ],
   "source": [
    "evenOdd(110363673634)"
   ]
  },
  {
   "cell_type": "code",
   "execution_count": 47,
   "metadata": {},
   "outputs": [
    {
     "name": "stdout",
     "output_type": "stream",
     "text": [
      "1234\n",
      "abcd\n"
     ]
    }
   ],
   "source": [
    "x = 'abcd' # Global variable\n",
    "def doSomething():\n",
    "    x = '1234' \n",
    "    y = 'yes'\n",
    "    print(x)\n",
    "\n",
    "doSomething()\n",
    "print(x)\n"
   ]
  },
  {
   "cell_type": "code",
   "execution_count": 65,
   "metadata": {},
   "outputs": [
    {
     "name": "stdout",
     "output_type": "stream",
     "text": [
      "0\n"
     ]
    }
   ],
   "source": [
    "def smallest(num1,num2):\n",
    "    return min([num1,num2])\n",
    "\n",
    "def smallest2(num1,num2=0):\n",
    "    return min([num1,num2])\n",
    "\n",
    "sm = smallest2(-10)\n",
    "sm2 = smallest2(num1=40)\n",
    "print(sm2)"
   ]
  },
  {
   "cell_type": "code",
   "execution_count": 71,
   "metadata": {},
   "outputs": [
    {
     "data": {
      "text/plain": [
       "-4"
      ]
     },
     "execution_count": 71,
     "metadata": {},
     "output_type": "execute_result"
    }
   ],
   "source": [
    "def smallest3(*nums):\n",
    "    return min(nums)\n",
    "    \n",
    "    \n",
    "smallest3(3,5,6,7,-4,5,6,7)"
   ]
  },
  {
   "cell_type": "code",
   "execution_count": 1,
   "metadata": {},
   "outputs": [
    {
     "name": "stdout",
     "output_type": "stream",
     "text": [
      "[ 0.75509981  0.82701409  0.06205945]\n"
     ]
    }
   ],
   "source": [
    "import numpy as np\n",
    "pt = np.random.rand(3)\n",
    "print(pt)"
   ]
  },
  {
   "cell_type": "code",
   "execution_count": 8,
   "metadata": {},
   "outputs": [
    {
     "name": "stdout",
     "output_type": "stream",
     "text": [
      "3.142372\n"
     ]
    }
   ],
   "source": [
    "import numpy as np\n",
    "import time\n",
    "\n",
    "def getPie(N):\n",
    "    n = 0;\n",
    "    r = 1\n",
    "    for i in range(N):\n",
    "        pt = np.random.rand(2)\n",
    "        x = 2*pt[0] - 1\n",
    "        y = 2*pt[1] - 1\n",
    "#         x = pt[0]\n",
    "#         y = pt[1]\n",
    "        if x**2 + y**2 <= r**2:\n",
    "            n += 1\n",
    "    p = 4*n/N\n",
    "    return p\n",
    "\n",
    "def getPie2(N):\n",
    "    n = 0\n",
    "    r = 1\n",
    "    nums = (2*np.random.rand(N,2) - 1)**2\n",
    "    fc = np.sum(nums,axis=1)\n",
    "    n = len(fc[fc <= 1])\n",
    "    p = 4*n/N\n",
    "    return p\n",
    "# st = time.time()\n",
    "pi = getPie(1000000)\n",
    "# sp = time.time()\n",
    "# print(pi)\n",
    "# print(sp-st)\n",
    "# st = time.time()\n",
    "# pi = getPie2(10000000)\n",
    "# sp = time.time()\n",
    "print(pi)\n",
    "# print(sp-st)\n",
    "        "
   ]
  },
  {
   "cell_type": "code",
   "execution_count": 57,
   "metadata": {},
   "outputs": [
    {
     "name": "stdout",
     "output_type": "stream",
     "text": [
      "[[ 0.03369602  0.25834572]\n",
      " [ 0.369889    0.44684827]\n",
      " [ 0.02510147  0.92227755]\n",
      " ..., \n",
      " [ 0.03677695  0.28731126]\n",
      " [ 0.03219372  0.54808335]\n",
      " [ 0.06999544  0.12548338]]\n"
     ]
    }
   ],
   "source": [
    "nums = (2*np.random.rand(10000000,2) - 1)**2\n",
    "print(nums)"
   ]
  },
  {
   "cell_type": "code",
   "execution_count": 101,
   "metadata": {},
   "outputs": [
    {
     "name": "stdout",
     "output_type": "stream",
     "text": [
      "['cat', 'dog']\n"
     ]
    }
   ],
   "source": [
    "def lessThan4(aList):\n",
    "    result = []\n",
    "    for item in aList:\n",
    "        if len(item) < 4:\n",
    "            result.append(item)\n",
    "    return result\n",
    "\n",
    "part = lessThan4([\"apple\",\"cat\",\"dog\",\"banana\"])\n",
    "print(part)\n",
    "\n",
    "    "
   ]
  },
  {
   "cell_type": "code",
   "execution_count": 4,
   "metadata": {},
   "outputs": [
    {
     "name": "stdout",
     "output_type": "stream",
     "text": [
      "[[ 0.54824477  0.11582297]\n",
      " [ 0.3677918   0.76233602]\n",
      " [ 0.04013749  0.0788348 ]\n",
      " [ 0.45984261  0.30263654]\n",
      " [ 0.32854921  0.85200424]\n",
      " [ 0.34560489  0.0012285 ]\n",
      " [ 0.33176928  0.00444845]\n",
      " [ 0.00593946  0.0735871 ]\n",
      " [ 0.11287906  0.81444049]\n",
      " [ 0.73999776  0.04065932]]\n"
     ]
    }
   ],
   "source": [
    "nums = (2*np.random.rand(10,2) - 1)**2\n",
    "print(nums)"
   ]
  },
  {
   "cell_type": "code",
   "execution_count": 6,
   "metadata": {},
   "outputs": [
    {
     "data": {
      "text/plain": [
       "array([[ 0.5428225 ,  0.69971176],\n",
       "       [ 0.85188533,  0.04135257],\n",
       "       [ 0.58949483,  0.40184303],\n",
       "       [ 0.55172068,  0.41261487],\n",
       "       [ 0.62748575,  0.70224907],\n",
       "       [ 0.62503617,  0.83098022],\n",
       "       [ 0.06304818,  0.78947181],\n",
       "       [ 0.05946961,  0.31409096],\n",
       "       [ 0.44564014,  0.17291997],\n",
       "       [ 0.62426361,  0.20413148],\n",
       "       [ 0.26820632,  0.23839837],\n",
       "       [ 0.97418901,  0.80843484],\n",
       "       [ 0.05225232,  0.16999652],\n",
       "       [ 0.74301853,  0.98370142],\n",
       "       [ 0.43755129,  0.76287217],\n",
       "       [ 0.30164945,  0.64842134],\n",
       "       [ 0.72706605,  0.78374998],\n",
       "       [ 0.05190039,  0.02094989],\n",
       "       [ 0.91294946,  0.08843906],\n",
       "       [ 0.86462271,  0.12872052],\n",
       "       [ 0.0430617 ,  0.25188272],\n",
       "       [ 0.24342926,  0.82930306],\n",
       "       [ 0.05473563,  0.81428832],\n",
       "       [ 0.47655797,  0.96480843],\n",
       "       [ 0.20816291,  0.17922924],\n",
       "       [ 0.35658179,  0.34878147],\n",
       "       [ 0.82640711,  0.79330255],\n",
       "       [ 0.72642045,  0.48326086],\n",
       "       [ 0.97486116,  0.42074237],\n",
       "       [ 0.88552879,  0.27299107],\n",
       "       [ 0.21073467,  0.05103763],\n",
       "       [ 0.33066744,  0.27024323],\n",
       "       [ 0.18996079,  0.05467788],\n",
       "       [ 0.54742978,  0.9817051 ],\n",
       "       [ 0.65877139,  0.41551736],\n",
       "       [ 0.55262617,  0.70505281],\n",
       "       [ 0.92098175,  0.81528415],\n",
       "       [ 0.91617643,  0.74230699],\n",
       "       [ 0.48856479,  0.9625663 ],\n",
       "       [ 0.69222573,  0.09962727],\n",
       "       [ 0.01284692,  0.34464034],\n",
       "       [ 0.81096689,  0.4507016 ],\n",
       "       [ 0.5489933 ,  0.60725221],\n",
       "       [ 0.9870341 ,  0.26189446],\n",
       "       [ 0.39703074,  0.78082818],\n",
       "       [ 0.85878562,  0.71591587],\n",
       "       [ 0.90655468,  0.17966848],\n",
       "       [ 0.15023467,  0.17885226],\n",
       "       [ 0.52592744,  0.40689158],\n",
       "       [ 0.94241485,  0.55321207],\n",
       "       [ 0.54604814,  0.42306949],\n",
       "       [ 0.54977941,  0.99246059],\n",
       "       [ 0.09058636,  0.86063336],\n",
       "       [ 0.20195544,  0.0816873 ],\n",
       "       [ 0.18466704,  0.92540416],\n",
       "       [ 0.25926598,  0.04797687],\n",
       "       [ 0.40934204,  0.53876429],\n",
       "       [ 0.9110288 ,  0.46888472],\n",
       "       [ 0.45790164,  0.10494653],\n",
       "       [ 0.56761489,  0.97377959],\n",
       "       [ 0.55792917,  0.89753202],\n",
       "       [ 0.08102196,  0.22501084],\n",
       "       [ 0.42930862,  0.01300796],\n",
       "       [ 0.76718765,  0.81419363],\n",
       "       [ 0.51830306,  0.23399484],\n",
       "       [ 0.05904935,  0.36241312],\n",
       "       [ 0.98961021,  0.40510594],\n",
       "       [ 0.13929629,  0.51189826],\n",
       "       [ 0.27763244,  0.34630947],\n",
       "       [ 0.73016244,  0.48091067],\n",
       "       [ 0.64489337,  0.51309097],\n",
       "       [ 0.62508664,  0.23539757],\n",
       "       [ 0.44686477,  0.07761436],\n",
       "       [ 0.42917695,  0.24613441],\n",
       "       [ 0.68907733,  0.90496844],\n",
       "       [ 0.76678946,  0.13703789],\n",
       "       [ 0.690067  ,  0.34769848],\n",
       "       [ 0.37543204,  0.20619352],\n",
       "       [ 0.6032023 ,  0.21581265],\n",
       "       [ 0.86962949,  0.23943379],\n",
       "       [ 0.65123795,  0.86880329],\n",
       "       [ 0.51477251,  0.45611755],\n",
       "       [ 0.57299925,  0.07274696],\n",
       "       [ 0.77773811,  0.49537198],\n",
       "       [ 0.6166505 ,  0.53578485],\n",
       "       [ 0.01856266,  0.48570157],\n",
       "       [ 0.4108329 ,  0.63854558],\n",
       "       [ 0.40234913,  0.37242555],\n",
       "       [ 0.95683139,  0.72540711],\n",
       "       [ 0.54389265,  0.02003984],\n",
       "       [ 0.913945  ,  0.70369849],\n",
       "       [ 0.04701911,  0.90070236],\n",
       "       [ 0.98181773,  0.42932332],\n",
       "       [ 0.89758438,  0.65156515],\n",
       "       [ 0.4015339 ,  0.0387827 ],\n",
       "       [ 0.82856446,  0.27159372],\n",
       "       [ 0.61620207,  0.37870756],\n",
       "       [ 0.71087064,  0.92766829],\n",
       "       [ 0.07879016,  0.3495395 ],\n",
       "       [ 0.41399257,  0.70023925]])"
      ]
     },
     "execution_count": 6,
     "metadata": {},
     "output_type": "execute_result"
    }
   ],
   "source": [
    "np.random.rand(100,2)"
   ]
  },
  {
   "cell_type": "code",
   "execution_count": null,
   "metadata": {
    "collapsed": true
   },
   "outputs": [],
   "source": []
  }
 ],
 "metadata": {
  "kernelspec": {
   "display_name": "Python 3",
   "language": "python",
   "name": "python3"
  },
  "language_info": {
   "codemirror_mode": {
    "name": "ipython",
    "version": 3
   },
   "file_extension": ".py",
   "mimetype": "text/x-python",
   "name": "python",
   "nbconvert_exporter": "python",
   "pygments_lexer": "ipython3",
   "version": "3.6.3"
  }
 },
 "nbformat": 4,
 "nbformat_minor": 2
}
