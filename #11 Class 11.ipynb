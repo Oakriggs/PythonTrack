{
 "cells": [
  {
   "cell_type": "code",
   "execution_count": 1,
   "metadata": {
    "collapsed": true
   },
   "outputs": [],
   "source": [
    "import numpy as np\n",
    "import pandas as pd\n",
    "import matplotlib.pyplot as plt"
   ]
  },
  {
   "cell_type": "code",
   "execution_count": 2,
   "metadata": {
    "collapsed": true
   },
   "outputs": [],
   "source": [
    "data = pd.read_csv(\"elantra.csv\")"
   ]
  },
  {
   "cell_type": "code",
   "execution_count": 5,
   "metadata": {},
   "outputs": [
    {
     "data": {
      "text/html": [
       "<div>\n",
       "<style scoped>\n",
       "    .dataframe tbody tr th:only-of-type {\n",
       "        vertical-align: middle;\n",
       "    }\n",
       "\n",
       "    .dataframe tbody tr th {\n",
       "        vertical-align: top;\n",
       "    }\n",
       "\n",
       "    .dataframe thead th {\n",
       "        text-align: right;\n",
       "    }\n",
       "</style>\n",
       "<table border=\"1\" class=\"dataframe\">\n",
       "  <thead>\n",
       "    <tr style=\"text-align: right;\">\n",
       "      <th></th>\n",
       "      <th>Month</th>\n",
       "      <th>Year</th>\n",
       "      <th>ElantraSales</th>\n",
       "      <th>Unemployment</th>\n",
       "      <th>Queries</th>\n",
       "      <th>CPI_energy</th>\n",
       "      <th>CPI_all</th>\n",
       "    </tr>\n",
       "  </thead>\n",
       "  <tbody>\n",
       "    <tr>\n",
       "      <th>0</th>\n",
       "      <td>1</td>\n",
       "      <td>2010</td>\n",
       "      <td>7690</td>\n",
       "      <td>9.7</td>\n",
       "      <td>153</td>\n",
       "      <td>213.377</td>\n",
       "      <td>217.466</td>\n",
       "    </tr>\n",
       "    <tr>\n",
       "      <th>1</th>\n",
       "      <td>1</td>\n",
       "      <td>2011</td>\n",
       "      <td>9659</td>\n",
       "      <td>9.1</td>\n",
       "      <td>259</td>\n",
       "      <td>229.353</td>\n",
       "      <td>221.082</td>\n",
       "    </tr>\n",
       "    <tr>\n",
       "      <th>2</th>\n",
       "      <td>1</td>\n",
       "      <td>2012</td>\n",
       "      <td>10900</td>\n",
       "      <td>8.2</td>\n",
       "      <td>354</td>\n",
       "      <td>244.178</td>\n",
       "      <td>227.666</td>\n",
       "    </tr>\n",
       "    <tr>\n",
       "      <th>3</th>\n",
       "      <td>1</td>\n",
       "      <td>2013</td>\n",
       "      <td>12174</td>\n",
       "      <td>7.9</td>\n",
       "      <td>230</td>\n",
       "      <td>242.560</td>\n",
       "      <td>231.321</td>\n",
       "    </tr>\n",
       "    <tr>\n",
       "      <th>4</th>\n",
       "      <td>1</td>\n",
       "      <td>2014</td>\n",
       "      <td>15326</td>\n",
       "      <td>6.6</td>\n",
       "      <td>232</td>\n",
       "      <td>247.575</td>\n",
       "      <td>234.933</td>\n",
       "    </tr>\n",
       "    <tr>\n",
       "      <th>5</th>\n",
       "      <td>2</td>\n",
       "      <td>2010</td>\n",
       "      <td>7966</td>\n",
       "      <td>9.8</td>\n",
       "      <td>130</td>\n",
       "      <td>209.924</td>\n",
       "      <td>217.251</td>\n",
       "    </tr>\n",
       "    <tr>\n",
       "      <th>6</th>\n",
       "      <td>2</td>\n",
       "      <td>2011</td>\n",
       "      <td>12289</td>\n",
       "      <td>9.0</td>\n",
       "      <td>266</td>\n",
       "      <td>232.188</td>\n",
       "      <td>221.816</td>\n",
       "    </tr>\n",
       "    <tr>\n",
       "      <th>7</th>\n",
       "      <td>2</td>\n",
       "      <td>2012</td>\n",
       "      <td>13820</td>\n",
       "      <td>8.3</td>\n",
       "      <td>296</td>\n",
       "      <td>247.615</td>\n",
       "      <td>228.138</td>\n",
       "    </tr>\n",
       "    <tr>\n",
       "      <th>8</th>\n",
       "      <td>2</td>\n",
       "      <td>2013</td>\n",
       "      <td>16219</td>\n",
       "      <td>7.7</td>\n",
       "      <td>239</td>\n",
       "      <td>252.639</td>\n",
       "      <td>232.599</td>\n",
       "    </tr>\n",
       "    <tr>\n",
       "      <th>9</th>\n",
       "      <td>2</td>\n",
       "      <td>2014</td>\n",
       "      <td>16393</td>\n",
       "      <td>6.7</td>\n",
       "      <td>240</td>\n",
       "      <td>246.389</td>\n",
       "      <td>235.169</td>\n",
       "    </tr>\n",
       "  </tbody>\n",
       "</table>\n",
       "</div>"
      ],
      "text/plain": [
       "   Month  Year  ElantraSales  Unemployment  Queries  CPI_energy  CPI_all\n",
       "0      1  2010          7690           9.7      153     213.377  217.466\n",
       "1      1  2011          9659           9.1      259     229.353  221.082\n",
       "2      1  2012         10900           8.2      354     244.178  227.666\n",
       "3      1  2013         12174           7.9      230     242.560  231.321\n",
       "4      1  2014         15326           6.6      232     247.575  234.933\n",
       "5      2  2010          7966           9.8      130     209.924  217.251\n",
       "6      2  2011         12289           9.0      266     232.188  221.816\n",
       "7      2  2012         13820           8.3      296     247.615  228.138\n",
       "8      2  2013         16219           7.7      239     252.639  232.599\n",
       "9      2  2014         16393           6.7      240     246.389  235.169"
      ]
     },
     "execution_count": 5,
     "metadata": {},
     "output_type": "execute_result"
    }
   ],
   "source": [
    "data.head(10)"
   ]
  },
  {
   "cell_type": "code",
   "execution_count": 8,
   "metadata": {},
   "outputs": [
    {
     "data": {
      "text/html": [
       "<div>\n",
       "<style scoped>\n",
       "    .dataframe tbody tr th:only-of-type {\n",
       "        vertical-align: middle;\n",
       "    }\n",
       "\n",
       "    .dataframe tbody tr th {\n",
       "        vertical-align: top;\n",
       "    }\n",
       "\n",
       "    .dataframe thead th {\n",
       "        text-align: right;\n",
       "    }\n",
       "</style>\n",
       "<table border=\"1\" class=\"dataframe\">\n",
       "  <thead>\n",
       "    <tr style=\"text-align: right;\">\n",
       "      <th></th>\n",
       "      <th>Month</th>\n",
       "      <th>Year</th>\n",
       "      <th>Unemployment</th>\n",
       "      <th>Queries</th>\n",
       "      <th>CPI_energy</th>\n",
       "      <th>CPI_all</th>\n",
       "    </tr>\n",
       "  </thead>\n",
       "  <tbody>\n",
       "    <tr>\n",
       "      <th>0</th>\n",
       "      <td>1</td>\n",
       "      <td>2010</td>\n",
       "      <td>9.7</td>\n",
       "      <td>153</td>\n",
       "      <td>213.377</td>\n",
       "      <td>217.466</td>\n",
       "    </tr>\n",
       "    <tr>\n",
       "      <th>1</th>\n",
       "      <td>1</td>\n",
       "      <td>2011</td>\n",
       "      <td>9.1</td>\n",
       "      <td>259</td>\n",
       "      <td>229.353</td>\n",
       "      <td>221.082</td>\n",
       "    </tr>\n",
       "    <tr>\n",
       "      <th>2</th>\n",
       "      <td>1</td>\n",
       "      <td>2012</td>\n",
       "      <td>8.2</td>\n",
       "      <td>354</td>\n",
       "      <td>244.178</td>\n",
       "      <td>227.666</td>\n",
       "    </tr>\n",
       "  </tbody>\n",
       "</table>\n",
       "</div>"
      ],
      "text/plain": [
       "   Month  Year  Unemployment  Queries  CPI_energy  CPI_all\n",
       "0      1  2010           9.7      153     213.377  217.466\n",
       "1      1  2011           9.1      259     229.353  221.082\n",
       "2      1  2012           8.2      354     244.178  227.666"
      ]
     },
     "execution_count": 8,
     "metadata": {},
     "output_type": "execute_result"
    }
   ],
   "source": [
    "Xdata = data[[\"Month\",\"Year\",\"Unemployment\", \"Queries\", \"CPI_energy\", \"CPI_all\"]]\n",
    "Ydata = data[\"ElantraSales\"]\n",
    "Xdata.head(3)"
   ]
  },
  {
   "cell_type": "code",
   "execution_count": 31,
   "metadata": {
    "collapsed": true
   },
   "outputs": [],
   "source": [
    "X = Xdata.values\n",
    "Y = Ydata.values\n",
    "row, col = X.shape\n",
    "ones = np.matrix(np.ones(row)).T\n",
    "Xa = np.concatenate((ones, np.matrix(X)), axis=1)"
   ]
  },
  {
   "cell_type": "code",
   "execution_count": 47,
   "metadata": {},
   "outputs": [
    {
     "data": {
      "text/plain": [
       "53923533.227102645"
      ]
     },
     "execution_count": 47,
     "metadata": {},
     "output_type": "execute_result"
    }
   ],
   "source": [
    "yfunc = lambda w: Xa*np.matrix(w).T\n",
    "def errorfunc(Yact, Ypred):\n",
    "    error = np.matrix(Yact) - np.matrix(Ypred)\n",
    "    m,c = error.shape\n",
    "    return (error.T*error)[0,0]/m\n",
    "\n",
    "ws = [1,3,4,2,5,1,3]\n",
    "Ypred = yfunc(ws)\n",
    "\n",
    "errorfunc(np.matrix(Y).T,Ypred)\n"
   ]
  },
  {
   "cell_type": "code",
   "execution_count": 94,
   "metadata": {
    "collapsed": true
   },
   "outputs": [],
   "source": [
    "def gradientDescent(w0, dyfcn):\n",
    "    # w0 is initial weights\n",
    "    alpha = 10\n",
    "    maxIter = 300\n",
    "    w = w0\n",
    "    for i in range(maxIter):\n",
    "        w = w - alpha*dyfcn(w)\n",
    "        #print(w)\n",
    "    \n",
    "    return w\n"
   ]
  },
  {
   "cell_type": "code",
   "execution_count": 72,
   "metadata": {},
   "outputs": [
    {
     "name": "stdout",
     "output_type": "stream",
     "text": [
      "-0.7499999999535238\n"
     ]
    }
   ],
   "source": [
    "dydx = lambda x: 4*x + 3\n",
    "x0 = 5\n",
    "xopt = gradientDescent(x0, dydx)\n",
    "print(xopt)"
   ]
  },
  {
   "cell_type": "code",
   "execution_count": 77,
   "metadata": {},
   "outputs": [
    {
     "name": "stdout",
     "output_type": "stream",
     "text": [
      "1.7612940604716703\n"
     ]
    }
   ],
   "source": [
    "dydx = lambda x: 6*x**2 - 10*x - 1\n",
    "x0 = 0.1\n",
    "xopt = gradientDescent(x0, dydx)\n",
    "print(xopt)"
   ]
  },
  {
   "cell_type": "code",
   "execution_count": 95,
   "metadata": {},
   "outputs": [
    {
     "name": "stdout",
     "output_type": "stream",
     "text": [
      "-2.490707787728946\n"
     ]
    },
    {
     "data": {
      "image/png": "[encoded data removed]",
      "text/plain": [
       "<matplotlib.figure.Figure at 0x2569dd5ee10>"
      ]
     },
     "metadata": {},
     "output_type": "display_data"
    }
   ],
   "source": [
    "xr = np.linspace(-10,10,200)\n",
    "yr = -np.sin(xr)/xr\n",
    "plt.plot(xr,yr)\n",
    "\n",
    "dydx = lambda x: (-x*np.cos(x) + np.sin(x))/x**2\n",
    "x0 = -1\n",
    "xopt = gradientDescent(x0, dydx)\n",
    "print(xopt)"
   ]
  }
 ],
 "metadata": {
  "kernelspec": {
   "display_name": "Python 3",
   "language": "python",
   "name": "python3"
  },
  "language_info": {
   "codemirror_mode": {
    "name": "ipython",
    "version": 3
   },
   "file_extension": ".py",
   "mimetype": "text/x-python",
   "name": "python",
   "nbconvert_exporter": "python",
   "pygments_lexer": "ipython3",
   "version": "3.6.3"
  }
 },
 "nbformat": 4,
 "nbformat_minor": 2
}
