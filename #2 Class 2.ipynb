{
 "cells": [
  {
   "cell_type": "markdown",
   "metadata": {},
   "source": [
    "List, Numpy Array, Numpy Matrix, Dictionary"
   ]
  },
  {
   "cell_type": "code",
   "execution_count": 5,
   "metadata": {},
   "outputs": [
    {
     "name": "stdout",
     "output_type": "stream",
     "text": [
      "[1, 2, 3, 4, 5]\n"
     ]
    }
   ],
   "source": [
    "nm = [1,2,3,4,5]\n",
    "print(nm)"
   ]
  },
  {
   "cell_type": "code",
   "execution_count": 18,
   "metadata": {},
   "outputs": [
    {
     "name": "stdout",
     "output_type": "stream",
     "text": [
      "[-1, -1, 1, -1, 1, 1, -1, 1, 0, 0, -1, 0, 1, 1, -1, -1, -1, 1, 0, 0, -1, 0, 1, 0, 0, 0, 0, 0, 1, -1, 1, -1, -1, -1, 0, -1, -1, -1, 1, 0, 1, -1, 0, -1, 0, 1, 0, 1, 0, 1, -1, 0, -1, 0, 0, 1, 1, 1, 0, -1, 1, -1, -1, -1, 0, -1, -1, -1, 0, -1, 1, -1, 1, 1, -1, 1, 1, -1, 1, 1, 1, 0, 1, 0, 0, 1, -1, 0, 1, 1, -1, 1, 0, 1, 1, -1, -1, -1, 0, 0, 1]\n",
      "\n",
      "36 30 35\n"
     ]
    }
   ],
   "source": [
    "bd = list(range(10))\n",
    "type(bd)\n",
    "dir(bd)\n",
    "import random\n",
    "x = 0\n",
    "list_1 = []\n",
    "while x <= 100: \n",
    "    list_1.append(random.randrange(-1, 2))\n",
    "    x += 1\n",
    "    \n",
    "print(list_1)  \n",
    "print()\n",
    "\n",
    "print(list_1.count(-1), list_1.count(0), list_1.count(1))\n",
    "\n",
    "\n",
    "\n"
   ]
  },
  {
   "cell_type": "code",
   "execution_count": 20,
   "metadata": {},
   "outputs": [
    {
     "name": "stdout",
     "output_type": "stream",
     "text": [
      "abcdef\n"
     ]
    },
    {
     "data": {
      "text/plain": [
       "['a', 'b', 'c', 'd', 'e', 'f']"
      ]
     },
     "execution_count": 20,
     "metadata": {},
     "output_type": "execute_result"
    }
   ],
   "source": [
    "st = 'abcdef'\n",
    "slt  = list(st)\n",
    "print(st)\n",
    "slt"
   ]
  },
  {
   "cell_type": "code",
   "execution_count": 5,
   "metadata": {},
   "outputs": [
    {
     "name": "stdout",
     "output_type": "stream",
     "text": [
      "[10, 40, 90, 160, 250]\n",
      "\n",
      "[10, 20, 30, 40, 50, 20, 40, 60, 80, 100, 30, 60, 90, 120, 150, 40, 80, 120, 160, 200, 50, 100, 150, 200, 250]\n"
     ]
    }
   ],
   "source": [
    "num1 = [1,2,3,4,5]\n",
    "num0 = [10,20,30,40,50]\n",
    "num2 = [ x*y for x in num1 for y in num0 ]\n",
    "num_pair = [(x* y) for x, y in zip(num1, num0)]\n",
    "print(num_pair)\n",
    "print()\n",
    "print(num2)"
   ]
  },
  {
   "cell_type": "code",
   "execution_count": 24,
   "metadata": {},
   "outputs": [
    {
     "data": {
      "text/plain": [
       "[2, 9, 16, 40]"
      ]
     },
     "execution_count": 24,
     "metadata": {},
     "output_type": "execute_result"
    }
   ],
   "source": [
    "# num1 = [1,2,3,4,5]\n",
    "# num0 = [10,20,30,40,50]\n",
    "# sz = len(num1)\n",
    "# num2 = [ num1[i]*num0[i] for i in range(sz)]\n",
    "# print(num2)\n",
    "\n",
    "def multiply_list(lst_1, lst_2):\n",
    "    if len(lst_1) != len(lst_2):\n",
    "        return \"\"\"\n",
    "        Error\n",
    "        List Dimension is unequal\n",
    "        \"\"\".strip()\n",
    "    else:\n",
    "        mult = [ lst_1[i]*lst_2[i] for i in range(len(lst_1))]\n",
    "        return mult\n",
    "    \n",
    "multiply_list([1,3,4,5], [2,3,4,8])"
   ]
  },
  {
   "cell_type": "markdown",
   "metadata": {},
   "source": [
    "### List Indexing"
   ]
  },
  {
   "cell_type": "code",
   "execution_count": 30,
   "metadata": {},
   "outputs": [
    {
     "name": "stdout",
     "output_type": "stream",
     "text": [
      "42\n",
      "76\n"
     ]
    }
   ],
   "source": [
    "num = list(range(2,102,2))\n",
    "a = num[20]\n",
    "b = num[-13]\n",
    "print(a)\n",
    "print(b)"
   ]
  },
  {
   "cell_type": "markdown",
   "metadata": {},
   "source": [
    "### List Slicing"
   ]
  },
  {
   "cell_type": "code",
   "execution_count": 41,
   "metadata": {},
   "outputs": [
    {
     "name": "stdout",
     "output_type": "stream",
     "text": [
      "[12, 14, 17, 29]\n"
     ]
    }
   ],
   "source": [
    "num = list(range(100))\n",
    "part = num[0:9]\n",
    "part2 = num[:9]\n",
    "part3 = num[80:]\n",
    "part4 = num[0::2]\n",
    "pos = [12, 14, 17, 29]\n",
    "part5 = [num[i] for i in pos]\n",
    "print(part5)"
   ]
  },
  {
   "cell_type": "markdown",
   "metadata": {},
   "source": [
    "### Updating List\n",
    "Note that a list is a mutable object"
   ]
  },
  {
   "cell_type": "code",
   "execution_count": 7,
   "metadata": {},
   "outputs": [
    {
     "name": "stdout",
     "output_type": "stream",
     "text": [
      "92555208\n",
      "[20, 5, 7, 9, 13]\n",
      "92555208\n",
      "[30, 40, 50, 9, 13]\n"
     ]
    }
   ],
   "source": [
    "num = [3, 5, 7, 9, 13]\n",
    "num2 = [3, 5, 7, 9, 13]\n",
    "\n",
    "print(id(num))\n",
    "num[0] = 20\n",
    "print(num)\n",
    "print(id(num))\n",
    "\n",
    "num[0:3] = [30,40,50]\n",
    "print(num)"
   ]
  },
  {
   "cell_type": "code",
   "execution_count": 54,
   "metadata": {},
   "outputs": [
    {
     "name": "stdout",
     "output_type": "stream",
     "text": [
      "2312928574576\n",
      "2313027683584\n",
      "abcdef\n"
     ]
    }
   ],
   "source": [
    "s1 = 'abc'\n",
    "print(id(s1))\n",
    "s1 += \"def\"\n",
    "print(id(s1))\n",
    "print(s1)"
   ]
  },
  {
   "cell_type": "markdown",
   "metadata": {},
   "source": [
    "### Properties of List"
   ]
  },
  {
   "cell_type": "code",
   "execution_count": 56,
   "metadata": {},
   "outputs": [
    {
     "name": "stdout",
     "output_type": "stream",
     "text": [
      "[2, 'abc', [4, 5, 6]]\n"
     ]
    }
   ],
   "source": [
    "num = []\n",
    "num.append(2)\n",
    "num.append(\"abc\")\n",
    "num.append([4,5,6])\n",
    "print(num)"
   ]
  },
  {
   "cell_type": "code",
   "execution_count": 60,
   "metadata": {},
   "outputs": [
    {
     "name": "stdout",
     "output_type": "stream",
     "text": [
      "[4, 5, 6]\n",
      "[2, 'abc']\n"
     ]
    }
   ],
   "source": [
    "num = []\n",
    "num.append(2)\n",
    "num.append(\"abc\")\n",
    "num.append([4,5,6])\n",
    "f = num.pop()\n",
    "print(f)\n",
    "print(num)"
   ]
  },
  {
   "cell_type": "markdown",
   "metadata": {},
   "source": [
    "### Tuple\n",
    "Tuple is like list but it is immutable "
   ]
  },
  {
   "cell_type": "code",
   "execution_count": 69,
   "metadata": {},
   "outputs": [
    {
     "name": "stdout",
     "output_type": "stream",
     "text": [
      "(11, 2, 3, 4)\n"
     ]
    }
   ],
   "source": [
    "tup = (1,2,3,4)\n",
    "tup2 = (11,) + tup[1:]\n",
    "print(tup2)"
   ]
  },
  {
   "cell_type": "code",
   "execution_count": 8,
   "metadata": {},
   "outputs": [
    {
     "name": "stdout",
     "output_type": "stream",
     "text": [
      "[0, 2, 4, 6, 8, 10, 12, 14, 16, 18, 20, 22, 24, 26, 28, 30, 32, 34, 36, 38, 40, 42, 44, 46, 48, 50, 52, 54, 56, 58, 60, 62, 64, 66, 68, 70, 72, 74, 76, 78, 80, 82, 84, 86, 88, 90, 92, 94, 96, 98, 100, 102, 104, 106, 108, 110, 112, 114, 116, 118, 120, 122, 124, 126, 128, 130, 132, 134, 136, 138, 140, 142, 144, 146, 148, 150, 152, 154, 156, 158, 160, 162, 164, 166, 168, 170, 172, 174, 176, 178, 180, 182, 184, 186, 188, 190, 192, 194, 196, 198]\n",
      "\n",
      "[0.0, 0.3333333333333333, 0.6666666666666666, 1.0, 1.3333333333333333, 1.6666666666666667, 2.0, 2.3333333333333335, 2.6666666666666665, 3.0, 3.3333333333333335, 3.6666666666666665, 4.0, 4.333333333333333, 4.666666666666667, 5.0, 5.333333333333333, 5.666666666666667, 6.0, 6.333333333333333, 6.666666666666667, 7.0, 7.333333333333333, 7.666666666666667, 8.0, 8.333333333333334, 8.666666666666666, 9.0, 9.333333333333334, 9.666666666666666, 10.0, 10.333333333333334, 10.666666666666666, 11.0, 11.333333333333334, 11.666666666666666, 12.0, 12.333333333333334, 12.666666666666666, 13.0, 13.333333333333334, 13.666666666666666, 14.0, 14.333333333333334, 14.666666666666666, 15.0, 15.333333333333334, 15.666666666666666, 16.0, 16.333333333333332, 16.666666666666668, 17.0, 17.333333333333332, 17.666666666666668, 18.0, 18.333333333333332, 18.666666666666668, 19.0, 19.333333333333332, 19.666666666666668, 20.0, 20.333333333333332, 20.666666666666668, 21.0, 21.333333333333332, 21.666666666666668, 22.0, 22.333333333333332, 22.666666666666668, 23.0, 23.333333333333332, 23.666666666666668, 24.0, 24.333333333333332, 24.666666666666668, 25.0, 25.333333333333332, 25.666666666666668, 26.0, 26.333333333333332, 26.666666666666668, 27.0, 27.333333333333332, 27.666666666666668, 28.0, 28.333333333333332, 28.666666666666668, 29.0, 29.333333333333332, 29.666666666666668, 30.0, 30.333333333333332, 30.666666666666668, 31.0, 31.333333333333332, 31.666666666666668, 32.0, 32.333333333333336, 32.666666666666664, 33.0]\n"
     ]
    }
   ],
   "source": [
    "\n",
    "vals = range(100)\n",
    "x,y = [2*v for v in vals], [v/3 for v in vals]\n",
    "print(x)\n",
    "print()\n",
    "print(y)"
   ]
  },
  {
   "cell_type": "markdown",
   "metadata": {},
   "source": [
    "### Set\n",
    "A collection of unique elements"
   ]
  },
  {
   "cell_type": "code",
   "execution_count": 78,
   "metadata": {},
   "outputs": [
    {
     "name": "stdout",
     "output_type": "stream",
     "text": [
      "{1, 2, 3, 4, 5, 6, 7}\n",
      "{2, 3, 4, 5, 6, 7}\n"
     ]
    }
   ],
   "source": [
    "lt = [1,2,3,4,4,4,5,5,5,6,7]\n",
    "se = set(lt)\n",
    "print(se)\n",
    "se2 = { 2,3,4,5,6 , 6,7}\n",
    "print(se2)\n"
   ]
  },
  {
   "cell_type": "code",
   "execution_count": 10,
   "metadata": {},
   "outputs": [
    {
     "name": "stdout",
     "output_type": "stream",
     "text": [
      "[ 1  4  9 16]\n"
     ]
    }
   ],
   "source": [
    "import numpy as np\n",
    "ar = np.array([1,2,3,4])\n",
    "ar2 = ar*ar\n",
    "print(ar2)"
   ]
  },
  {
   "cell_type": "code",
   "execution_count": 91,
   "metadata": {},
   "outputs": [
    {
     "name": "stdout",
     "output_type": "stream",
     "text": [
      "['1' '2' '3' 'abc']\n"
     ]
    }
   ],
   "source": [
    "ar3 = np.array([1,2,3, \"abc\"])\n",
    "print(ar3)"
   ]
  },
  {
   "cell_type": "code",
   "execution_count": 11,
   "metadata": {},
   "outputs": [
    {
     "name": "stdout",
     "output_type": "stream",
     "text": [
      "[1 2 3 9]\n",
      "[[ 5.  5.  5.  5.]\n",
      " [ 5.  5.  5.  5.]\n",
      " [ 5.  5.  5.  5.]\n",
      " [ 5.  5.  5.  5.]\n",
      " [ 5.  5.  5.  5.]\n",
      " [ 5.  5.  5.  5.]\n",
      " [ 5.  5.  5.  5.]\n",
      " [ 5.  5.  5.  5.]\n",
      " [ 5.  5.  5.  5.]\n",
      " [ 5.  5.  5.  5.]]\n"
     ]
    }
   ],
   "source": [
    "ar3 = np.array([1,2,3, 9])\n",
    "print(ar3)\n",
    "ar4 = np.ones([3,2])\n",
    "lt = [ [1,1], [1,1], [1,1] ]\n",
    "ar5 = np.array(lt)\n",
    "ar6 = np.zeros([10,4]) + 5\n",
    "print(ar6)"
   ]
  },
  {
   "cell_type": "code",
   "execution_count": 1,
   "metadata": {},
   "outputs": [
    {
     "name": "stdout",
     "output_type": "stream",
     "text": [
      "[[4 1 1]\n",
      " [1 9 4]\n",
      " [9 4 9]]\n",
      "\n",
      "[[ 2.]\n",
      " [ 3.]\n",
      " [ 5.]]\n",
      "\n",
      "[[ 4  2 -2]\n",
      " [ 3 -9  6]\n",
      " [-9 -6  9]]\n"
     ]
    }
   ],
   "source": [
    "import numpy as np\n",
    "C = np.array([ [2,1,-1], [1,-3,2], [3,2,-3] ])\n",
    "\n",
    "D = np.array([ [2], [3], [-3] ])\n",
    "Cm = np.matrix(C)\n",
    "Dm = np.matrix(D)\n",
    "X1 = np.multiply(Cm, Cm)\n",
    "X = Cm.I * Dm\n",
    "print(X1)\n",
    "print()\n",
    "print(X)\n",
    "print()\n",
    "\n",
    "E = C * D\n",
    "print(E)\n"
   ]
  },
  {
   "cell_type": "code",
   "execution_count": 138,
   "metadata": {},
   "outputs": [
    {
     "name": "stdout",
     "output_type": "stream",
     "text": [
      "4\n"
     ]
    }
   ],
   "source": [
    "sm = np.sum(C)\n",
    "print(sm)"
   ]
  },
  {
   "cell_type": "code",
   "execution_count": 20,
   "metadata": {},
   "outputs": [
    {
     "name": "stdout",
     "output_type": "stream",
     "text": [
      "[[ 1.   2. ]\n",
      " [ 1.   1. ]\n",
      " [ 1.5  1.5]\n",
      " [ 3.   4. ]\n",
      " [ 3.5  3.5]\n",
      " [ 4.   4. ]]\n",
      "5.0\n",
      "row: 6 column: 2\n",
      "[ 1.41421356  2.23606798  1.58113883  1.41421356  1.58113883  2.23606798]\n"
     ]
    }
   ],
   "source": [
    "Dist = [[1,2],[1,1],[1.5,1.5],[3,4],[3.5,3.5], [4,4]]\n",
    "\n",
    "Dist = np.array(Dist)\n",
    "print(Dist)\n",
    "Center = np.array([2, 3])\n",
    "r,c = Dist.shape\n",
    "# print(r, c)\n",
    "print(np.sum((Dist[5,:] - Center)**2))\n",
    "\n",
    "np.tile(Center, [6,1])\n",
    "print(\"row: \" + str(r) , \"column: \" + str(c))\n",
    "result = [np.sqrt( np.sum( (Dist[i,:] - Center)**2) )  for i in range(r)]\n",
    "result2 = np.sqrt(np.sum((np.tile(Center, [6,1]) - Dist)**2, 1))\n",
    "(np.array(result).T)\n",
    "# print(result2)"
   ]
  },
  {
   "cell_type": "code",
   "execution_count": null,
   "metadata": {
    "collapsed": true
   },
   "outputs": [],
   "source": []
  }
 ],
 "metadata": {
  "kernelspec": {
   "display_name": "Python 3",
   "language": "python",
   "name": "python3"
  },
  "language_info": {
   "codemirror_mode": {
    "name": "ipython",
    "version": 3
   },
   "file_extension": ".py",
   "mimetype": "text/x-python",
   "name": "python",
   "nbconvert_exporter": "python",
   "pygments_lexer": "ipython3",
   "version": "3.6.3"
  }
 },
 "nbformat": 4,
 "nbformat_minor": 2
}
